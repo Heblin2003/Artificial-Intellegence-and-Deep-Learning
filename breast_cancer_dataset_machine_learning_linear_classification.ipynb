{
  "nbformat": 4,
  "nbformat_minor": 0,
  "metadata": {
    "colab": {
      "provenance": []
    },
    "kernelspec": {
      "name": "python3",
      "display_name": "Python 3"
    },
    "language_info": {
      "name": "python"
    }
  },
  "cells": [
    {
      "cell_type": "code",
      "execution_count": 1,
      "metadata": {
        "colab": {
          "base_uri": "https://localhost:8080/"
        },
        "id": "jpZo8PFdcCRF",
        "outputId": "1522e178-96ac-49a9-d3f1-fee9c99561c0"
      },
      "outputs": [
        {
          "output_type": "stream",
          "name": "stdout",
          "text": [
            "2.12.0\n"
          ]
        }
      ],
      "source": [
        "import tensorflow as tf\n",
        "print(tf.__version__)"
      ]
    },
    {
      "cell_type": "code",
      "source": [
        "from sklearn.datasets import load_breast_cancer"
      ],
      "metadata": {
        "id": "4xm6g7mMdYtc"
      },
      "execution_count": 2,
      "outputs": []
    },
    {
      "cell_type": "code",
      "source": [
        "data=load_breast_cancer()"
      ],
      "metadata": {
        "id": "G4C990ridhHD"
      },
      "execution_count": 3,
      "outputs": []
    },
    {
      "cell_type": "code",
      "source": [
        "data"
      ],
      "metadata": {
        "colab": {
          "base_uri": "https://localhost:8080/"
        },
        "id": "B5S-V07Ydnst",
        "outputId": "24792927-1e3a-47e9-8333-c2b2362d585d"
      },
      "execution_count": 4,
      "outputs": [
        {
          "output_type": "execute_result",
          "data": {
            "text/plain": [
              "{'data': array([[1.799e+01, 1.038e+01, 1.228e+02, ..., 2.654e-01, 4.601e-01,\n",
              "         1.189e-01],\n",
              "        [2.057e+01, 1.777e+01, 1.329e+02, ..., 1.860e-01, 2.750e-01,\n",
              "         8.902e-02],\n",
              "        [1.969e+01, 2.125e+01, 1.300e+02, ..., 2.430e-01, 3.613e-01,\n",
              "         8.758e-02],\n",
              "        ...,\n",
              "        [1.660e+01, 2.808e+01, 1.083e+02, ..., 1.418e-01, 2.218e-01,\n",
              "         7.820e-02],\n",
              "        [2.060e+01, 2.933e+01, 1.401e+02, ..., 2.650e-01, 4.087e-01,\n",
              "         1.240e-01],\n",
              "        [7.760e+00, 2.454e+01, 4.792e+01, ..., 0.000e+00, 2.871e-01,\n",
              "         7.039e-02]]),\n",
              " 'target': array([0, 0, 0, 0, 0, 0, 0, 0, 0, 0, 0, 0, 0, 0, 0, 0, 0, 0, 0, 1, 1, 1,\n",
              "        0, 0, 0, 0, 0, 0, 0, 0, 0, 0, 0, 0, 0, 0, 0, 1, 0, 0, 0, 0, 0, 0,\n",
              "        0, 0, 1, 0, 1, 1, 1, 1, 1, 0, 0, 1, 0, 0, 1, 1, 1, 1, 0, 1, 0, 0,\n",
              "        1, 1, 1, 1, 0, 1, 0, 0, 1, 0, 1, 0, 0, 1, 1, 1, 0, 0, 1, 0, 0, 0,\n",
              "        1, 1, 1, 0, 1, 1, 0, 0, 1, 1, 1, 0, 0, 1, 1, 1, 1, 0, 1, 1, 0, 1,\n",
              "        1, 1, 1, 1, 1, 1, 1, 0, 0, 0, 1, 0, 0, 1, 1, 1, 0, 0, 1, 0, 1, 0,\n",
              "        0, 1, 0, 0, 1, 1, 0, 1, 1, 0, 1, 1, 1, 1, 0, 1, 1, 1, 1, 1, 1, 1,\n",
              "        1, 1, 0, 1, 1, 1, 1, 0, 0, 1, 0, 1, 1, 0, 0, 1, 1, 0, 0, 1, 1, 1,\n",
              "        1, 0, 1, 1, 0, 0, 0, 1, 0, 1, 0, 1, 1, 1, 0, 1, 1, 0, 0, 1, 0, 0,\n",
              "        0, 0, 1, 0, 0, 0, 1, 0, 1, 0, 1, 1, 0, 1, 0, 0, 0, 0, 1, 1, 0, 0,\n",
              "        1, 1, 1, 0, 1, 1, 1, 1, 1, 0, 0, 1, 1, 0, 1, 1, 0, 0, 1, 0, 1, 1,\n",
              "        1, 1, 0, 1, 1, 1, 1, 1, 0, 1, 0, 0, 0, 0, 0, 0, 0, 0, 0, 0, 0, 0,\n",
              "        0, 0, 1, 1, 1, 1, 1, 1, 0, 1, 0, 1, 1, 0, 1, 1, 0, 1, 0, 0, 1, 1,\n",
              "        1, 1, 1, 1, 1, 1, 1, 1, 1, 1, 1, 0, 1, 1, 0, 1, 0, 1, 1, 1, 1, 1,\n",
              "        1, 1, 1, 1, 1, 1, 1, 1, 1, 0, 1, 1, 1, 0, 1, 0, 1, 1, 1, 1, 0, 0,\n",
              "        0, 1, 1, 1, 1, 0, 1, 0, 1, 0, 1, 1, 1, 0, 1, 1, 1, 1, 1, 1, 1, 0,\n",
              "        0, 0, 1, 1, 1, 1, 1, 1, 1, 1, 1, 1, 1, 0, 0, 1, 0, 0, 0, 1, 0, 0,\n",
              "        1, 1, 1, 1, 1, 0, 1, 1, 1, 1, 1, 0, 1, 1, 1, 0, 1, 1, 0, 0, 1, 1,\n",
              "        1, 1, 1, 1, 0, 1, 1, 1, 1, 1, 1, 1, 0, 1, 1, 1, 1, 1, 0, 1, 1, 0,\n",
              "        1, 1, 1, 1, 1, 1, 1, 1, 1, 1, 1, 1, 0, 1, 0, 0, 1, 0, 1, 1, 1, 1,\n",
              "        1, 0, 1, 1, 0, 1, 0, 1, 1, 0, 1, 0, 1, 1, 1, 1, 1, 1, 1, 1, 0, 0,\n",
              "        1, 1, 1, 1, 1, 1, 0, 1, 1, 1, 1, 1, 1, 1, 1, 1, 1, 0, 1, 1, 1, 1,\n",
              "        1, 1, 1, 0, 1, 0, 1, 1, 0, 1, 1, 1, 1, 1, 0, 0, 1, 0, 1, 0, 1, 1,\n",
              "        1, 1, 1, 0, 1, 1, 0, 1, 0, 1, 0, 0, 1, 1, 1, 0, 1, 1, 1, 1, 1, 1,\n",
              "        1, 1, 1, 1, 1, 0, 1, 0, 0, 1, 1, 1, 1, 1, 1, 1, 1, 1, 1, 1, 1, 1,\n",
              "        1, 1, 1, 1, 1, 1, 1, 1, 1, 1, 1, 1, 0, 0, 0, 0, 0, 0, 1]),\n",
              " 'frame': None,\n",
              " 'target_names': array(['malignant', 'benign'], dtype='<U9'),\n",
              " 'DESCR': '.. _breast_cancer_dataset:\\n\\nBreast cancer wisconsin (diagnostic) dataset\\n--------------------------------------------\\n\\n**Data Set Characteristics:**\\n\\n    :Number of Instances: 569\\n\\n    :Number of Attributes: 30 numeric, predictive attributes and the class\\n\\n    :Attribute Information:\\n        - radius (mean of distances from center to points on the perimeter)\\n        - texture (standard deviation of gray-scale values)\\n        - perimeter\\n        - area\\n        - smoothness (local variation in radius lengths)\\n        - compactness (perimeter^2 / area - 1.0)\\n        - concavity (severity of concave portions of the contour)\\n        - concave points (number of concave portions of the contour)\\n        - symmetry\\n        - fractal dimension (\"coastline approximation\" - 1)\\n\\n        The mean, standard error, and \"worst\" or largest (mean of the three\\n        worst/largest values) of these features were computed for each image,\\n        resulting in 30 features.  For instance, field 0 is Mean Radius, field\\n        10 is Radius SE, field 20 is Worst Radius.\\n\\n        - class:\\n                - WDBC-Malignant\\n                - WDBC-Benign\\n\\n    :Summary Statistics:\\n\\n    ===================================== ====== ======\\n                                           Min    Max\\n    ===================================== ====== ======\\n    radius (mean):                        6.981  28.11\\n    texture (mean):                       9.71   39.28\\n    perimeter (mean):                     43.79  188.5\\n    area (mean):                          143.5  2501.0\\n    smoothness (mean):                    0.053  0.163\\n    compactness (mean):                   0.019  0.345\\n    concavity (mean):                     0.0    0.427\\n    concave points (mean):                0.0    0.201\\n    symmetry (mean):                      0.106  0.304\\n    fractal dimension (mean):             0.05   0.097\\n    radius (standard error):              0.112  2.873\\n    texture (standard error):             0.36   4.885\\n    perimeter (standard error):           0.757  21.98\\n    area (standard error):                6.802  542.2\\n    smoothness (standard error):          0.002  0.031\\n    compactness (standard error):         0.002  0.135\\n    concavity (standard error):           0.0    0.396\\n    concave points (standard error):      0.0    0.053\\n    symmetry (standard error):            0.008  0.079\\n    fractal dimension (standard error):   0.001  0.03\\n    radius (worst):                       7.93   36.04\\n    texture (worst):                      12.02  49.54\\n    perimeter (worst):                    50.41  251.2\\n    area (worst):                         185.2  4254.0\\n    smoothness (worst):                   0.071  0.223\\n    compactness (worst):                  0.027  1.058\\n    concavity (worst):                    0.0    1.252\\n    concave points (worst):               0.0    0.291\\n    symmetry (worst):                     0.156  0.664\\n    fractal dimension (worst):            0.055  0.208\\n    ===================================== ====== ======\\n\\n    :Missing Attribute Values: None\\n\\n    :Class Distribution: 212 - Malignant, 357 - Benign\\n\\n    :Creator:  Dr. William H. Wolberg, W. Nick Street, Olvi L. Mangasarian\\n\\n    :Donor: Nick Street\\n\\n    :Date: November, 1995\\n\\nThis is a copy of UCI ML Breast Cancer Wisconsin (Diagnostic) datasets.\\nhttps://goo.gl/U2Uwz2\\n\\nFeatures are computed from a digitized image of a fine needle\\naspirate (FNA) of a breast mass.  They describe\\ncharacteristics of the cell nuclei present in the image.\\n\\nSeparating plane described above was obtained using\\nMultisurface Method-Tree (MSM-T) [K. P. Bennett, \"Decision Tree\\nConstruction Via Linear Programming.\" Proceedings of the 4th\\nMidwest Artificial Intelligence and Cognitive Science Society,\\npp. 97-101, 1992], a classification method which uses linear\\nprogramming to construct a decision tree.  Relevant features\\nwere selected using an exhaustive search in the space of 1-4\\nfeatures and 1-3 separating planes.\\n\\nThe actual linear program used to obtain the separating plane\\nin the 3-dimensional space is that described in:\\n[K. P. Bennett and O. L. Mangasarian: \"Robust Linear\\nProgramming Discrimination of Two Linearly Inseparable Sets\",\\nOptimization Methods and Software 1, 1992, 23-34].\\n\\nThis database is also available through the UW CS ftp server:\\n\\nftp ftp.cs.wisc.edu\\ncd math-prog/cpo-dataset/machine-learn/WDBC/\\n\\n.. topic:: References\\n\\n   - W.N. Street, W.H. Wolberg and O.L. Mangasarian. Nuclear feature extraction \\n     for breast tumor diagnosis. IS&T/SPIE 1993 International Symposium on \\n     Electronic Imaging: Science and Technology, volume 1905, pages 861-870,\\n     San Jose, CA, 1993.\\n   - O.L. Mangasarian, W.N. Street and W.H. Wolberg. Breast cancer diagnosis and \\n     prognosis via linear programming. Operations Research, 43(4), pages 570-577, \\n     July-August 1995.\\n   - W.H. Wolberg, W.N. Street, and O.L. Mangasarian. Machine learning techniques\\n     to diagnose breast cancer from fine-needle aspirates. Cancer Letters 77 (1994) \\n     163-171.',\n",
              " 'feature_names': array(['mean radius', 'mean texture', 'mean perimeter', 'mean area',\n",
              "        'mean smoothness', 'mean compactness', 'mean concavity',\n",
              "        'mean concave points', 'mean symmetry', 'mean fractal dimension',\n",
              "        'radius error', 'texture error', 'perimeter error', 'area error',\n",
              "        'smoothness error', 'compactness error', 'concavity error',\n",
              "        'concave points error', 'symmetry error',\n",
              "        'fractal dimension error', 'worst radius', 'worst texture',\n",
              "        'worst perimeter', 'worst area', 'worst smoothness',\n",
              "        'worst compactness', 'worst concavity', 'worst concave points',\n",
              "        'worst symmetry', 'worst fractal dimension'], dtype='<U23'),\n",
              " 'filename': 'breast_cancer.csv',\n",
              " 'data_module': 'sklearn.datasets.data'}"
            ]
          },
          "metadata": {},
          "execution_count": 4
        }
      ]
    },
    {
      "cell_type": "code",
      "source": [
        "type(data)"
      ],
      "metadata": {
        "colab": {
          "base_uri": "https://localhost:8080/"
        },
        "id": "XPICgT-MdzNI",
        "outputId": "3ef5aed6-1758-4e1e-9d3b-bb7de7171e83"
      },
      "execution_count": 5,
      "outputs": [
        {
          "output_type": "execute_result",
          "data": {
            "text/plain": [
              "sklearn.utils._bunch.Bunch"
            ]
          },
          "metadata": {},
          "execution_count": 5
        }
      ]
    },
    {
      "cell_type": "code",
      "source": [
        "data.keys()"
      ],
      "metadata": {
        "colab": {
          "base_uri": "https://localhost:8080/"
        },
        "id": "Rmg2M_3Qd3Hf",
        "outputId": "8763503c-bd37-40df-9731-3860861d9e8b"
      },
      "execution_count": 6,
      "outputs": [
        {
          "output_type": "execute_result",
          "data": {
            "text/plain": [
              "dict_keys(['data', 'target', 'frame', 'target_names', 'DESCR', 'feature_names', 'filename', 'data_module'])"
            ]
          },
          "metadata": {},
          "execution_count": 6
        }
      ]
    },
    {
      "cell_type": "code",
      "source": [
        "data.data.shape #(n,d)  n=no of samples,d=no of features"
      ],
      "metadata": {
        "colab": {
          "base_uri": "https://localhost:8080/"
        },
        "id": "kdLNTLoFd8y3",
        "outputId": "e810cfbf-b583-44f1-abb3-555efdc0dd93"
      },
      "execution_count": 7,
      "outputs": [
        {
          "output_type": "execute_result",
          "data": {
            "text/plain": [
              "(569, 30)"
            ]
          },
          "metadata": {},
          "execution_count": 7
        }
      ]
    },
    {
      "cell_type": "code",
      "source": [
        "data.target #binary classification"
      ],
      "metadata": {
        "colab": {
          "base_uri": "https://localhost:8080/"
        },
        "id": "imuVENqGeKBZ",
        "outputId": "347038b2-82f7-4bc4-b9ff-d3f3aad30d31"
      },
      "execution_count": 8,
      "outputs": [
        {
          "output_type": "execute_result",
          "data": {
            "text/plain": [
              "array([0, 0, 0, 0, 0, 0, 0, 0, 0, 0, 0, 0, 0, 0, 0, 0, 0, 0, 0, 1, 1, 1,\n",
              "       0, 0, 0, 0, 0, 0, 0, 0, 0, 0, 0, 0, 0, 0, 0, 1, 0, 0, 0, 0, 0, 0,\n",
              "       0, 0, 1, 0, 1, 1, 1, 1, 1, 0, 0, 1, 0, 0, 1, 1, 1, 1, 0, 1, 0, 0,\n",
              "       1, 1, 1, 1, 0, 1, 0, 0, 1, 0, 1, 0, 0, 1, 1, 1, 0, 0, 1, 0, 0, 0,\n",
              "       1, 1, 1, 0, 1, 1, 0, 0, 1, 1, 1, 0, 0, 1, 1, 1, 1, 0, 1, 1, 0, 1,\n",
              "       1, 1, 1, 1, 1, 1, 1, 0, 0, 0, 1, 0, 0, 1, 1, 1, 0, 0, 1, 0, 1, 0,\n",
              "       0, 1, 0, 0, 1, 1, 0, 1, 1, 0, 1, 1, 1, 1, 0, 1, 1, 1, 1, 1, 1, 1,\n",
              "       1, 1, 0, 1, 1, 1, 1, 0, 0, 1, 0, 1, 1, 0, 0, 1, 1, 0, 0, 1, 1, 1,\n",
              "       1, 0, 1, 1, 0, 0, 0, 1, 0, 1, 0, 1, 1, 1, 0, 1, 1, 0, 0, 1, 0, 0,\n",
              "       0, 0, 1, 0, 0, 0, 1, 0, 1, 0, 1, 1, 0, 1, 0, 0, 0, 0, 1, 1, 0, 0,\n",
              "       1, 1, 1, 0, 1, 1, 1, 1, 1, 0, 0, 1, 1, 0, 1, 1, 0, 0, 1, 0, 1, 1,\n",
              "       1, 1, 0, 1, 1, 1, 1, 1, 0, 1, 0, 0, 0, 0, 0, 0, 0, 0, 0, 0, 0, 0,\n",
              "       0, 0, 1, 1, 1, 1, 1, 1, 0, 1, 0, 1, 1, 0, 1, 1, 0, 1, 0, 0, 1, 1,\n",
              "       1, 1, 1, 1, 1, 1, 1, 1, 1, 1, 1, 0, 1, 1, 0, 1, 0, 1, 1, 1, 1, 1,\n",
              "       1, 1, 1, 1, 1, 1, 1, 1, 1, 0, 1, 1, 1, 0, 1, 0, 1, 1, 1, 1, 0, 0,\n",
              "       0, 1, 1, 1, 1, 0, 1, 0, 1, 0, 1, 1, 1, 0, 1, 1, 1, 1, 1, 1, 1, 0,\n",
              "       0, 0, 1, 1, 1, 1, 1, 1, 1, 1, 1, 1, 1, 0, 0, 1, 0, 0, 0, 1, 0, 0,\n",
              "       1, 1, 1, 1, 1, 0, 1, 1, 1, 1, 1, 0, 1, 1, 1, 0, 1, 1, 0, 0, 1, 1,\n",
              "       1, 1, 1, 1, 0, 1, 1, 1, 1, 1, 1, 1, 0, 1, 1, 1, 1, 1, 0, 1, 1, 0,\n",
              "       1, 1, 1, 1, 1, 1, 1, 1, 1, 1, 1, 1, 0, 1, 0, 0, 1, 0, 1, 1, 1, 1,\n",
              "       1, 0, 1, 1, 0, 1, 0, 1, 1, 0, 1, 0, 1, 1, 1, 1, 1, 1, 1, 1, 0, 0,\n",
              "       1, 1, 1, 1, 1, 1, 0, 1, 1, 1, 1, 1, 1, 1, 1, 1, 1, 0, 1, 1, 1, 1,\n",
              "       1, 1, 1, 0, 1, 0, 1, 1, 0, 1, 1, 1, 1, 1, 0, 0, 1, 0, 1, 0, 1, 1,\n",
              "       1, 1, 1, 0, 1, 1, 0, 1, 0, 1, 0, 0, 1, 1, 1, 0, 1, 1, 1, 1, 1, 1,\n",
              "       1, 1, 1, 1, 1, 0, 1, 0, 0, 1, 1, 1, 1, 1, 1, 1, 1, 1, 1, 1, 1, 1,\n",
              "       1, 1, 1, 1, 1, 1, 1, 1, 1, 1, 1, 1, 0, 0, 0, 0, 0, 0, 1])"
            ]
          },
          "metadata": {},
          "execution_count": 8
        }
      ]
    },
    {
      "cell_type": "code",
      "source": [
        "data.target_names"
      ],
      "metadata": {
        "colab": {
          "base_uri": "https://localhost:8080/"
        },
        "id": "DvlX5onDedqw",
        "outputId": "7fa79a8c-7989-4301-cd4a-d7bfbbd94555"
      },
      "execution_count": 9,
      "outputs": [
        {
          "output_type": "execute_result",
          "data": {
            "text/plain": [
              "array(['malignant', 'benign'], dtype='<U9')"
            ]
          },
          "metadata": {},
          "execution_count": 9
        }
      ]
    },
    {
      "cell_type": "code",
      "source": [
        "data.target.shape"
      ],
      "metadata": {
        "colab": {
          "base_uri": "https://localhost:8080/"
        },
        "id": "cDWjeAYGeoEI",
        "outputId": "892ff8f6-366f-472a-b9c5-ef59e447affa"
      },
      "execution_count": 10,
      "outputs": [
        {
          "output_type": "execute_result",
          "data": {
            "text/plain": [
              "(569,)"
            ]
          },
          "metadata": {},
          "execution_count": 10
        }
      ]
    },
    {
      "cell_type": "code",
      "source": [
        "data.feature_names"
      ],
      "metadata": {
        "colab": {
          "base_uri": "https://localhost:8080/"
        },
        "id": "uvvILGLOeuw9",
        "outputId": "bfdf5ab9-0860-4c9b-f5f4-1a253a379519"
      },
      "execution_count": 11,
      "outputs": [
        {
          "output_type": "execute_result",
          "data": {
            "text/plain": [
              "array(['mean radius', 'mean texture', 'mean perimeter', 'mean area',\n",
              "       'mean smoothness', 'mean compactness', 'mean concavity',\n",
              "       'mean concave points', 'mean symmetry', 'mean fractal dimension',\n",
              "       'radius error', 'texture error', 'perimeter error', 'area error',\n",
              "       'smoothness error', 'compactness error', 'concavity error',\n",
              "       'concave points error', 'symmetry error',\n",
              "       'fractal dimension error', 'worst radius', 'worst texture',\n",
              "       'worst perimeter', 'worst area', 'worst smoothness',\n",
              "       'worst compactness', 'worst concavity', 'worst concave points',\n",
              "       'worst symmetry', 'worst fractal dimension'], dtype='<U23')"
            ]
          },
          "metadata": {},
          "execution_count": 11
        }
      ]
    },
    {
      "cell_type": "code",
      "source": [
        "#train and test split\n",
        "from sklearn.model_selection import train_test_split\n",
        "\n",
        "X_train,X_test,y_train,y_test=train_test_split(\n",
        "    data.data,data.target,test_size=0.33)"
      ],
      "metadata": {
        "id": "lNg5FzFDe0WG"
      },
      "execution_count": 12,
      "outputs": []
    },
    {
      "cell_type": "code",
      "source": [
        "N,D=X_train.shape"
      ],
      "metadata": {
        "id": "auAqfVwIffQa"
      },
      "execution_count": 13,
      "outputs": []
    },
    {
      "cell_type": "code",
      "source": [
        "N,D"
      ],
      "metadata": {
        "colab": {
          "base_uri": "https://localhost:8080/"
        },
        "id": "Nvaj0176fiOU",
        "outputId": "07964f1c-db8c-4126-d6bc-0c713590b86e"
      },
      "execution_count": 14,
      "outputs": [
        {
          "output_type": "execute_result",
          "data": {
            "text/plain": [
              "(381, 30)"
            ]
          },
          "metadata": {},
          "execution_count": 14
        }
      ]
    },
    {
      "cell_type": "code",
      "source": [
        "#every column in a dataset and give 0  mean in variance 1\n",
        "from sklearn.preprocessing import StandardScaler\n",
        "\n",
        "scaler=StandardScaler()\n",
        "X_train=scaler.fit_transform(X_train)#fit transform does both fit and transform both at once\n",
        "X_test=scaler.transform(X_test)# we use fit transform only in train set because its going to find parameter(mean and variance) to emulate how it work in real world and we use new data point(test) ,we use pre existing mean to transform\n",
        "                             "
      ],
      "metadata": {
        "id": "ZhyHTrwCfkG7"
      },
      "execution_count": 15,
      "outputs": []
    },
    {
      "cell_type": "code",
      "source": [
        "model =tf.keras.models.Sequential([\n",
        "    tf.keras.layers.Input(shape=(D,)),\n",
        "    tf.keras.layers.Dense(1,activation='sigmoid')\n",
        "])"
      ],
      "metadata": {
        "id": "wZkP-ltHh7XF"
      },
      "execution_count": 16,
      "outputs": []
    },
    {
      "cell_type": "code",
      "source": [
        "#Alternative\n",
        "#model=tf.keras.models.Seqential()\n",
        "#model.add(tf.keras.layers.Dense(1, input_shape=(D,),activation=\"sigmoid\"))\n"
      ],
      "metadata": {
        "id": "eIBe24_QiZhQ"
      },
      "execution_count": 17,
      "outputs": []
    },
    {
      "cell_type": "code",
      "source": [
        "model.compile(optimizer='adam',\n",
        "              loss=\"binary_crossentropy\",\n",
        "              metrics=['accuracy'])"
      ],
      "metadata": {
        "id": "fTGiX9bbjBqn"
      },
      "execution_count": 18,
      "outputs": []
    },
    {
      "cell_type": "code",
      "source": [
        "r=model.fit(X_train,y_train,validation_data=(X_test,y_test),epochs=100)"
      ],
      "metadata": {
        "colab": {
          "base_uri": "https://localhost:8080/"
        },
        "id": "vOMKKFY9jmGN",
        "outputId": "722cfa5d-cfa5-4d93-8048-1c46c202262d"
      },
      "execution_count": 19,
      "outputs": [
        {
          "output_type": "stream",
          "name": "stdout",
          "text": [
            "Epoch 1/100\n",
            "12/12 [==============================] - 1s 32ms/step - loss: 0.8746 - accuracy: 0.5223 - val_loss: 0.7851 - val_accuracy: 0.5957\n",
            "Epoch 2/100\n",
            "12/12 [==============================] - 0s 12ms/step - loss: 0.8040 - accuracy: 0.5538 - val_loss: 0.7160 - val_accuracy: 0.6277\n",
            "Epoch 3/100\n",
            "12/12 [==============================] - 0s 9ms/step - loss: 0.7442 - accuracy: 0.6168 - val_loss: 0.6545 - val_accuracy: 0.6968\n",
            "Epoch 4/100\n",
            "12/12 [==============================] - 0s 8ms/step - loss: 0.6889 - accuracy: 0.6693 - val_loss: 0.6034 - val_accuracy: 0.7660\n",
            "Epoch 5/100\n",
            "12/12 [==============================] - 0s 7ms/step - loss: 0.6432 - accuracy: 0.7402 - val_loss: 0.5588 - val_accuracy: 0.7979\n",
            "Epoch 6/100\n",
            "12/12 [==============================] - 0s 8ms/step - loss: 0.6024 - accuracy: 0.7769 - val_loss: 0.5210 - val_accuracy: 0.8032\n",
            "Epoch 7/100\n",
            "12/12 [==============================] - 0s 8ms/step - loss: 0.5676 - accuracy: 0.7900 - val_loss: 0.4875 - val_accuracy: 0.8191\n",
            "Epoch 8/100\n",
            "12/12 [==============================] - 0s 7ms/step - loss: 0.5359 - accuracy: 0.8058 - val_loss: 0.4586 - val_accuracy: 0.8298\n",
            "Epoch 9/100\n",
            "12/12 [==============================] - 0s 7ms/step - loss: 0.5085 - accuracy: 0.8163 - val_loss: 0.4329 - val_accuracy: 0.8404\n",
            "Epoch 10/100\n",
            "12/12 [==============================] - 0s 7ms/step - loss: 0.4842 - accuracy: 0.8294 - val_loss: 0.4097 - val_accuracy: 0.8404\n",
            "Epoch 11/100\n",
            "12/12 [==============================] - 0s 7ms/step - loss: 0.4617 - accuracy: 0.8399 - val_loss: 0.3891 - val_accuracy: 0.8457\n",
            "Epoch 12/100\n",
            "12/12 [==============================] - 0s 7ms/step - loss: 0.4414 - accuracy: 0.8478 - val_loss: 0.3704 - val_accuracy: 0.8457\n",
            "Epoch 13/100\n",
            "12/12 [==============================] - 0s 7ms/step - loss: 0.4232 - accuracy: 0.8556 - val_loss: 0.3532 - val_accuracy: 0.8564\n",
            "Epoch 14/100\n",
            "12/12 [==============================] - 0s 13ms/step - loss: 0.4057 - accuracy: 0.8609 - val_loss: 0.3380 - val_accuracy: 0.8670\n",
            "Epoch 15/100\n",
            "12/12 [==============================] - 0s 7ms/step - loss: 0.3912 - accuracy: 0.8688 - val_loss: 0.3231 - val_accuracy: 0.8830\n",
            "Epoch 16/100\n",
            "12/12 [==============================] - 0s 7ms/step - loss: 0.3764 - accuracy: 0.8766 - val_loss: 0.3095 - val_accuracy: 0.8883\n",
            "Epoch 17/100\n",
            "12/12 [==============================] - 0s 8ms/step - loss: 0.3627 - accuracy: 0.8819 - val_loss: 0.2972 - val_accuracy: 0.8989\n",
            "Epoch 18/100\n",
            "12/12 [==============================] - 0s 9ms/step - loss: 0.3501 - accuracy: 0.8898 - val_loss: 0.2856 - val_accuracy: 0.9043\n",
            "Epoch 19/100\n",
            "12/12 [==============================] - 0s 8ms/step - loss: 0.3385 - accuracy: 0.9003 - val_loss: 0.2750 - val_accuracy: 0.9096\n",
            "Epoch 20/100\n",
            "12/12 [==============================] - 0s 10ms/step - loss: 0.3272 - accuracy: 0.9055 - val_loss: 0.2652 - val_accuracy: 0.9149\n",
            "Epoch 21/100\n",
            "12/12 [==============================] - 0s 8ms/step - loss: 0.3171 - accuracy: 0.9081 - val_loss: 0.2558 - val_accuracy: 0.9149\n",
            "Epoch 22/100\n",
            "12/12 [==============================] - 0s 7ms/step - loss: 0.3076 - accuracy: 0.9160 - val_loss: 0.2468 - val_accuracy: 0.9149\n",
            "Epoch 23/100\n",
            "12/12 [==============================] - 0s 9ms/step - loss: 0.2978 - accuracy: 0.9160 - val_loss: 0.2388 - val_accuracy: 0.9255\n",
            "Epoch 24/100\n",
            "12/12 [==============================] - 0s 6ms/step - loss: 0.2892 - accuracy: 0.9160 - val_loss: 0.2311 - val_accuracy: 0.9309\n",
            "Epoch 25/100\n",
            "12/12 [==============================] - 0s 6ms/step - loss: 0.2812 - accuracy: 0.9213 - val_loss: 0.2239 - val_accuracy: 0.9309\n",
            "Epoch 26/100\n",
            "12/12 [==============================] - 0s 6ms/step - loss: 0.2731 - accuracy: 0.9239 - val_loss: 0.2171 - val_accuracy: 0.9309\n",
            "Epoch 27/100\n",
            "12/12 [==============================] - 0s 5ms/step - loss: 0.2656 - accuracy: 0.9265 - val_loss: 0.2108 - val_accuracy: 0.9309\n",
            "Epoch 28/100\n",
            "12/12 [==============================] - 0s 5ms/step - loss: 0.2585 - accuracy: 0.9265 - val_loss: 0.2049 - val_accuracy: 0.9362\n",
            "Epoch 29/100\n",
            "12/12 [==============================] - 0s 6ms/step - loss: 0.2519 - accuracy: 0.9291 - val_loss: 0.1992 - val_accuracy: 0.9468\n",
            "Epoch 30/100\n",
            "12/12 [==============================] - 0s 5ms/step - loss: 0.2452 - accuracy: 0.9318 - val_loss: 0.1940 - val_accuracy: 0.9468\n",
            "Epoch 31/100\n",
            "12/12 [==============================] - 0s 6ms/step - loss: 0.2399 - accuracy: 0.9318 - val_loss: 0.1888 - val_accuracy: 0.9468\n",
            "Epoch 32/100\n",
            "12/12 [==============================] - 0s 6ms/step - loss: 0.2333 - accuracy: 0.9344 - val_loss: 0.1841 - val_accuracy: 0.9521\n",
            "Epoch 33/100\n",
            "12/12 [==============================] - 0s 5ms/step - loss: 0.2281 - accuracy: 0.9344 - val_loss: 0.1794 - val_accuracy: 0.9521\n",
            "Epoch 34/100\n",
            "12/12 [==============================] - 0s 5ms/step - loss: 0.2225 - accuracy: 0.9344 - val_loss: 0.1753 - val_accuracy: 0.9574\n",
            "Epoch 35/100\n",
            "12/12 [==============================] - 0s 5ms/step - loss: 0.2175 - accuracy: 0.9396 - val_loss: 0.1712 - val_accuracy: 0.9574\n",
            "Epoch 36/100\n",
            "12/12 [==============================] - 0s 5ms/step - loss: 0.2128 - accuracy: 0.9396 - val_loss: 0.1674 - val_accuracy: 0.9574\n",
            "Epoch 37/100\n",
            "12/12 [==============================] - 0s 6ms/step - loss: 0.2084 - accuracy: 0.9396 - val_loss: 0.1638 - val_accuracy: 0.9574\n",
            "Epoch 38/100\n",
            "12/12 [==============================] - 0s 6ms/step - loss: 0.2038 - accuracy: 0.9423 - val_loss: 0.1603 - val_accuracy: 0.9574\n",
            "Epoch 39/100\n",
            "12/12 [==============================] - 0s 5ms/step - loss: 0.1998 - accuracy: 0.9423 - val_loss: 0.1569 - val_accuracy: 0.9628\n",
            "Epoch 40/100\n",
            "12/12 [==============================] - 0s 7ms/step - loss: 0.1958 - accuracy: 0.9423 - val_loss: 0.1537 - val_accuracy: 0.9628\n",
            "Epoch 41/100\n",
            "12/12 [==============================] - 0s 5ms/step - loss: 0.1920 - accuracy: 0.9423 - val_loss: 0.1507 - val_accuracy: 0.9628\n",
            "Epoch 42/100\n",
            "12/12 [==============================] - 0s 6ms/step - loss: 0.1886 - accuracy: 0.9449 - val_loss: 0.1478 - val_accuracy: 0.9628\n",
            "Epoch 43/100\n",
            "12/12 [==============================] - 0s 6ms/step - loss: 0.1849 - accuracy: 0.9449 - val_loss: 0.1451 - val_accuracy: 0.9628\n",
            "Epoch 44/100\n",
            "12/12 [==============================] - 0s 6ms/step - loss: 0.1819 - accuracy: 0.9528 - val_loss: 0.1425 - val_accuracy: 0.9628\n",
            "Epoch 45/100\n",
            "12/12 [==============================] - 0s 6ms/step - loss: 0.1786 - accuracy: 0.9528 - val_loss: 0.1400 - val_accuracy: 0.9628\n",
            "Epoch 46/100\n",
            "12/12 [==============================] - 0s 6ms/step - loss: 0.1758 - accuracy: 0.9580 - val_loss: 0.1375 - val_accuracy: 0.9734\n",
            "Epoch 47/100\n",
            "12/12 [==============================] - 0s 5ms/step - loss: 0.1728 - accuracy: 0.9606 - val_loss: 0.1353 - val_accuracy: 0.9734\n",
            "Epoch 48/100\n",
            "12/12 [==============================] - 0s 5ms/step - loss: 0.1703 - accuracy: 0.9606 - val_loss: 0.1331 - val_accuracy: 0.9734\n",
            "Epoch 49/100\n",
            "12/12 [==============================] - 0s 5ms/step - loss: 0.1677 - accuracy: 0.9606 - val_loss: 0.1309 - val_accuracy: 0.9734\n",
            "Epoch 50/100\n",
            "12/12 [==============================] - 0s 5ms/step - loss: 0.1651 - accuracy: 0.9606 - val_loss: 0.1288 - val_accuracy: 0.9734\n",
            "Epoch 51/100\n",
            "12/12 [==============================] - 0s 6ms/step - loss: 0.1628 - accuracy: 0.9606 - val_loss: 0.1269 - val_accuracy: 0.9734\n",
            "Epoch 52/100\n",
            "12/12 [==============================] - 0s 5ms/step - loss: 0.1606 - accuracy: 0.9606 - val_loss: 0.1250 - val_accuracy: 0.9787\n",
            "Epoch 53/100\n",
            "12/12 [==============================] - 0s 5ms/step - loss: 0.1583 - accuracy: 0.9606 - val_loss: 0.1233 - val_accuracy: 0.9787\n",
            "Epoch 54/100\n",
            "12/12 [==============================] - 0s 6ms/step - loss: 0.1564 - accuracy: 0.9606 - val_loss: 0.1214 - val_accuracy: 0.9787\n",
            "Epoch 55/100\n",
            "12/12 [==============================] - 0s 5ms/step - loss: 0.1542 - accuracy: 0.9606 - val_loss: 0.1198 - val_accuracy: 0.9787\n",
            "Epoch 56/100\n",
            "12/12 [==============================] - 0s 5ms/step - loss: 0.1524 - accuracy: 0.9606 - val_loss: 0.1182 - val_accuracy: 0.9787\n",
            "Epoch 57/100\n",
            "12/12 [==============================] - 0s 6ms/step - loss: 0.1505 - accuracy: 0.9606 - val_loss: 0.1166 - val_accuracy: 0.9787\n",
            "Epoch 58/100\n",
            "12/12 [==============================] - 0s 5ms/step - loss: 0.1486 - accuracy: 0.9606 - val_loss: 0.1151 - val_accuracy: 0.9787\n",
            "Epoch 59/100\n",
            "12/12 [==============================] - 0s 5ms/step - loss: 0.1470 - accuracy: 0.9606 - val_loss: 0.1137 - val_accuracy: 0.9787\n",
            "Epoch 60/100\n",
            "12/12 [==============================] - 0s 5ms/step - loss: 0.1453 - accuracy: 0.9633 - val_loss: 0.1123 - val_accuracy: 0.9787\n",
            "Epoch 61/100\n",
            "12/12 [==============================] - 0s 5ms/step - loss: 0.1437 - accuracy: 0.9633 - val_loss: 0.1110 - val_accuracy: 0.9787\n",
            "Epoch 62/100\n",
            "12/12 [==============================] - 0s 5ms/step - loss: 0.1422 - accuracy: 0.9633 - val_loss: 0.1096 - val_accuracy: 0.9787\n",
            "Epoch 63/100\n",
            "12/12 [==============================] - 0s 5ms/step - loss: 0.1406 - accuracy: 0.9633 - val_loss: 0.1083 - val_accuracy: 0.9787\n",
            "Epoch 64/100\n",
            "12/12 [==============================] - 0s 6ms/step - loss: 0.1392 - accuracy: 0.9633 - val_loss: 0.1071 - val_accuracy: 0.9787\n",
            "Epoch 65/100\n",
            "12/12 [==============================] - 0s 5ms/step - loss: 0.1378 - accuracy: 0.9633 - val_loss: 0.1059 - val_accuracy: 0.9787\n",
            "Epoch 66/100\n",
            "12/12 [==============================] - 0s 5ms/step - loss: 0.1365 - accuracy: 0.9633 - val_loss: 0.1048 - val_accuracy: 0.9840\n",
            "Epoch 67/100\n",
            "12/12 [==============================] - 0s 5ms/step - loss: 0.1352 - accuracy: 0.9633 - val_loss: 0.1037 - val_accuracy: 0.9840\n",
            "Epoch 68/100\n",
            "12/12 [==============================] - 0s 5ms/step - loss: 0.1339 - accuracy: 0.9633 - val_loss: 0.1026 - val_accuracy: 0.9840\n",
            "Epoch 69/100\n",
            "12/12 [==============================] - 0s 5ms/step - loss: 0.1327 - accuracy: 0.9659 - val_loss: 0.1016 - val_accuracy: 0.9840\n",
            "Epoch 70/100\n",
            "12/12 [==============================] - 0s 6ms/step - loss: 0.1315 - accuracy: 0.9659 - val_loss: 0.1006 - val_accuracy: 0.9840\n",
            "Epoch 71/100\n",
            "12/12 [==============================] - 0s 5ms/step - loss: 0.1303 - accuracy: 0.9659 - val_loss: 0.0996 - val_accuracy: 0.9840\n",
            "Epoch 72/100\n",
            "12/12 [==============================] - 0s 6ms/step - loss: 0.1292 - accuracy: 0.9659 - val_loss: 0.0987 - val_accuracy: 0.9894\n",
            "Epoch 73/100\n",
            "12/12 [==============================] - 0s 5ms/step - loss: 0.1281 - accuracy: 0.9659 - val_loss: 0.0977 - val_accuracy: 0.9894\n",
            "Epoch 74/100\n",
            "12/12 [==============================] - 0s 5ms/step - loss: 0.1271 - accuracy: 0.9659 - val_loss: 0.0969 - val_accuracy: 0.9894\n",
            "Epoch 75/100\n",
            "12/12 [==============================] - 0s 5ms/step - loss: 0.1261 - accuracy: 0.9659 - val_loss: 0.0960 - val_accuracy: 0.9894\n",
            "Epoch 76/100\n",
            "12/12 [==============================] - 0s 6ms/step - loss: 0.1251 - accuracy: 0.9659 - val_loss: 0.0951 - val_accuracy: 0.9894\n",
            "Epoch 77/100\n",
            "12/12 [==============================] - 0s 5ms/step - loss: 0.1241 - accuracy: 0.9659 - val_loss: 0.0943 - val_accuracy: 0.9894\n",
            "Epoch 78/100\n",
            "12/12 [==============================] - 0s 5ms/step - loss: 0.1232 - accuracy: 0.9659 - val_loss: 0.0935 - val_accuracy: 0.9894\n",
            "Epoch 79/100\n",
            "12/12 [==============================] - 0s 5ms/step - loss: 0.1222 - accuracy: 0.9659 - val_loss: 0.0927 - val_accuracy: 0.9894\n",
            "Epoch 80/100\n",
            "12/12 [==============================] - 0s 5ms/step - loss: 0.1213 - accuracy: 0.9659 - val_loss: 0.0920 - val_accuracy: 0.9894\n",
            "Epoch 81/100\n",
            "12/12 [==============================] - 0s 5ms/step - loss: 0.1205 - accuracy: 0.9659 - val_loss: 0.0912 - val_accuracy: 0.9894\n",
            "Epoch 82/100\n",
            "12/12 [==============================] - 0s 5ms/step - loss: 0.1196 - accuracy: 0.9659 - val_loss: 0.0906 - val_accuracy: 0.9894\n",
            "Epoch 83/100\n",
            "12/12 [==============================] - 0s 5ms/step - loss: 0.1188 - accuracy: 0.9659 - val_loss: 0.0899 - val_accuracy: 0.9894\n",
            "Epoch 84/100\n",
            "12/12 [==============================] - 0s 5ms/step - loss: 0.1180 - accuracy: 0.9685 - val_loss: 0.0892 - val_accuracy: 0.9894\n",
            "Epoch 85/100\n",
            "12/12 [==============================] - 0s 6ms/step - loss: 0.1172 - accuracy: 0.9685 - val_loss: 0.0886 - val_accuracy: 0.9947\n",
            "Epoch 86/100\n",
            "12/12 [==============================] - 0s 5ms/step - loss: 0.1164 - accuracy: 0.9685 - val_loss: 0.0879 - val_accuracy: 0.9947\n",
            "Epoch 87/100\n",
            "12/12 [==============================] - 0s 7ms/step - loss: 0.1157 - accuracy: 0.9685 - val_loss: 0.0873 - val_accuracy: 0.9947\n",
            "Epoch 88/100\n",
            "12/12 [==============================] - 0s 5ms/step - loss: 0.1149 - accuracy: 0.9711 - val_loss: 0.0867 - val_accuracy: 0.9947\n",
            "Epoch 89/100\n",
            "12/12 [==============================] - 0s 7ms/step - loss: 0.1143 - accuracy: 0.9711 - val_loss: 0.0861 - val_accuracy: 0.9947\n",
            "Epoch 90/100\n",
            "12/12 [==============================] - 0s 6ms/step - loss: 0.1135 - accuracy: 0.9711 - val_loss: 0.0855 - val_accuracy: 0.9947\n",
            "Epoch 91/100\n",
            "12/12 [==============================] - 0s 5ms/step - loss: 0.1129 - accuracy: 0.9711 - val_loss: 0.0849 - val_accuracy: 0.9947\n",
            "Epoch 92/100\n",
            "12/12 [==============================] - 0s 5ms/step - loss: 0.1122 - accuracy: 0.9711 - val_loss: 0.0843 - val_accuracy: 0.9947\n",
            "Epoch 93/100\n",
            "12/12 [==============================] - 0s 5ms/step - loss: 0.1115 - accuracy: 0.9711 - val_loss: 0.0838 - val_accuracy: 0.9947\n",
            "Epoch 94/100\n",
            "12/12 [==============================] - 0s 5ms/step - loss: 0.1109 - accuracy: 0.9711 - val_loss: 0.0833 - val_accuracy: 0.9947\n",
            "Epoch 95/100\n",
            "12/12 [==============================] - 0s 5ms/step - loss: 0.1102 - accuracy: 0.9711 - val_loss: 0.0828 - val_accuracy: 0.9947\n",
            "Epoch 96/100\n",
            "12/12 [==============================] - 0s 6ms/step - loss: 0.1097 - accuracy: 0.9711 - val_loss: 0.0823 - val_accuracy: 0.9947\n",
            "Epoch 97/100\n",
            "12/12 [==============================] - 0s 6ms/step - loss: 0.1090 - accuracy: 0.9711 - val_loss: 0.0818 - val_accuracy: 0.9947\n",
            "Epoch 98/100\n",
            "12/12 [==============================] - 0s 6ms/step - loss: 0.1085 - accuracy: 0.9711 - val_loss: 0.0813 - val_accuracy: 0.9947\n",
            "Epoch 99/100\n",
            "12/12 [==============================] - 0s 6ms/step - loss: 0.1079 - accuracy: 0.9711 - val_loss: 0.0808 - val_accuracy: 0.9947\n",
            "Epoch 100/100\n",
            "12/12 [==============================] - 0s 5ms/step - loss: 0.1073 - accuracy: 0.9711 - val_loss: 0.0804 - val_accuracy: 0.9947\n"
          ]
        }
      ]
    },
    {
      "cell_type": "code",
      "source": [
        "print(\"Train score:\",model.evaluate(X_train,y_train))\n",
        "print(\"Test score:\",model.evaluate(X_test,y_test))"
      ],
      "metadata": {
        "colab": {
          "base_uri": "https://localhost:8080/"
        },
        "id": "thBjz8jekHCA",
        "outputId": "92895126-9234-4897-e98d-8869e90c7a74"
      },
      "execution_count": 20,
      "outputs": [
        {
          "output_type": "stream",
          "name": "stdout",
          "text": [
            "12/12 [==============================] - 0s 2ms/step - loss: 0.1070 - accuracy: 0.9711\n",
            "Train score: [0.10697466135025024, 0.9711285829544067]\n",
            "6/6 [==============================] - 0s 3ms/step - loss: 0.0804 - accuracy: 0.9947\n",
            "Test score: [0.08036869019269943, 0.9946808218955994]\n"
          ]
        }
      ]
    },
    {
      "cell_type": "code",
      "source": [
        "import matplotlib.pyplot as plt\n",
        "plt.plot(r.history['loss'],label=\"loss\")\n",
        "plt.plot(r.history['val_loss'],label=\"val_loss\")\n",
        "plt.legend();"
      ],
      "metadata": {
        "colab": {
          "base_uri": "https://localhost:8080/",
          "height": 430
        },
        "id": "fJzrHVVOkk7-",
        "outputId": "56d1e023-d97e-419f-c55a-98b79482432f"
      },
      "execution_count": 21,
      "outputs": [
        {
          "output_type": "display_data",
          "data": {
            "text/plain": [
              "<Figure size 640x480 with 1 Axes>"
            ],
            "image/png": "[encoded data removed]"
          },
          "metadata": {}
        }
      ]
    },
    {
      "cell_type": "code",
      "source": [
        "plt.plot(r.history['accuracy'],label=\"acc\")\n",
        "plt.plot(r.history['val_accuracy'],label=\"val_acc\")\n",
        "plt.legend()"
      ],
      "metadata": {
        "colab": {
          "base_uri": "https://localhost:8080/",
          "height": 447
        },
        "id": "V8xLiFFtlPWU",
        "outputId": "327d88d3-005d-4d02-ddc0-a39f339e90ae"
      },
      "execution_count": 22,
      "outputs": [
        {
          "output_type": "execute_result",
          "data": {
            "text/plain": [
              "<matplotlib.legend.Legend at 0x7fba79f6a8f0>"
            ]
          },
          "metadata": {},
          "execution_count": 22
        },
        {
          "output_type": "display_data",
          "data": {
            "text/plain": [
              "<Figure size 640x480 with 1 Axes>"
            ],
            "image/png": "[encoded data removed]"
          },
          "metadata": {}
        }
      ]
    },
    {
      "cell_type": "markdown",
      "source": [
        "Making Predictions\n"
      ],
      "metadata": {
        "id": "KuFyoRDcHas5"
      }
    },
    {
      "cell_type": "code",
      "source": [
        "# Make predictions\n",
        "P= model.predict(X_test)\n",
        "print(P)# they are output of sigmoid,interpreted as probabilities p(y=1|x)"
      ],
      "metadata": {
        "id": "_4scr8eElxkG",
        "colab": {
          "base_uri": "https://localhost:8080/"
        },
        "outputId": "4a3b57d0-d803-4293-ecd4-31376d5697c0"
      },
      "execution_count": 23,
      "outputs": [
        {
          "output_type": "stream",
          "name": "stdout",
          "text": [
            "6/6 [==============================] - 0s 4ms/step\n",
            "[[9.53415334e-01]\n",
            " [2.66351714e-03]\n",
            " [5.01194075e-02]\n",
            " [9.96612906e-01]\n",
            " [1.16368661e-04]\n",
            " [9.94701445e-01]\n",
            " [9.83539879e-01]\n",
            " [9.93377924e-01]\n",
            " [8.84358597e-04]\n",
            " [6.81685507e-01]\n",
            " [9.95489419e-01]\n",
            " [9.71639812e-01]\n",
            " [7.66261399e-01]\n",
            " [9.40338254e-01]\n",
            " [9.43819761e-01]\n",
            " [9.92847085e-01]\n",
            " [9.97216403e-01]\n",
            " [9.92576361e-01]\n",
            " [5.14993444e-02]\n",
            " [1.13092980e-03]\n",
            " [1.01886215e-02]\n",
            " [9.94405508e-01]\n",
            " [9.45284605e-01]\n",
            " [6.97807133e-01]\n",
            " [9.06834960e-01]\n",
            " [9.09210742e-01]\n",
            " [9.97798443e-01]\n",
            " [9.98341858e-01]\n",
            " [1.94900706e-01]\n",
            " [9.85359728e-01]\n",
            " [8.09954226e-01]\n",
            " [9.65163112e-01]\n",
            " [2.35647266e-03]\n",
            " [9.96564090e-01]\n",
            " [1.15339486e-02]\n",
            " [1.95612956e-04]\n",
            " [3.08556773e-05]\n",
            " [9.92493033e-01]\n",
            " [9.98396993e-01]\n",
            " [6.85667872e-01]\n",
            " [9.86548722e-01]\n",
            " [1.51587983e-05]\n",
            " [9.01524560e-04]\n",
            " [9.87998128e-01]\n",
            " [9.37062085e-01]\n",
            " [6.03171766e-01]\n",
            " [9.11379039e-01]\n",
            " [1.35337077e-02]\n",
            " [9.81614709e-01]\n",
            " [7.80415595e-01]\n",
            " [9.73891079e-01]\n",
            " [6.95217095e-05]\n",
            " [9.76745844e-01]\n",
            " [9.90231931e-01]\n",
            " [9.67950702e-01]\n",
            " [9.91957247e-01]\n",
            " [9.98071551e-01]\n",
            " [7.53676938e-03]\n",
            " [3.23695332e-01]\n",
            " [5.48582664e-03]\n",
            " [9.64277804e-01]\n",
            " [9.95695412e-01]\n",
            " [7.82047340e-04]\n",
            " [4.81169089e-04]\n",
            " [9.59103584e-01]\n",
            " [9.20421243e-01]\n",
            " [1.35454973e-02]\n",
            " [8.17235210e-04]\n",
            " [9.90003526e-01]\n",
            " [8.04844379e-01]\n",
            " [9.76735175e-01]\n",
            " [9.77141678e-01]\n",
            " [9.87424374e-01]\n",
            " [9.89724159e-01]\n",
            " [3.83556962e-01]\n",
            " [9.83114302e-01]\n",
            " [9.99687135e-01]\n",
            " [6.94804839e-05]\n",
            " [7.43571937e-01]\n",
            " [8.57465029e-01]\n",
            " [7.04822969e-03]\n",
            " [8.10837567e-01]\n",
            " [9.98384893e-01]\n",
            " [2.70350231e-03]\n",
            " [1.66734029e-02]\n",
            " [1.02767954e-02]\n",
            " [3.27316448e-02]\n",
            " [5.60556182e-05]\n",
            " [1.56354114e-01]\n",
            " [9.94683564e-01]\n",
            " [1.35152880e-03]\n",
            " [9.03047204e-01]\n",
            " [1.10534215e-02]\n",
            " [9.31519985e-01]\n",
            " [1.29127729e-04]\n",
            " [9.98212814e-01]\n",
            " [2.76961335e-04]\n",
            " [9.85645592e-01]\n",
            " [9.15333807e-01]\n",
            " [1.94525591e-03]\n",
            " [3.10396571e-02]\n",
            " [9.83926117e-01]\n",
            " [9.68964159e-01]\n",
            " [2.62781394e-11]\n",
            " [8.11143100e-01]\n",
            " [9.93525565e-01]\n",
            " [9.70341146e-01]\n",
            " [9.53461766e-01]\n",
            " [6.09339178e-01]\n",
            " [9.82700229e-01]\n",
            " [4.48064413e-03]\n",
            " [9.89836514e-01]\n",
            " [1.64070789e-05]\n",
            " [6.10273220e-02]\n",
            " [9.79939997e-01]\n",
            " [9.68837857e-01]\n",
            " [8.18344124e-04]\n",
            " [9.65075791e-01]\n",
            " [9.71739531e-01]\n",
            " [6.55585229e-02]\n",
            " [8.14993501e-01]\n",
            " [2.32155636e-01]\n",
            " [8.71560097e-01]\n",
            " [9.00173962e-01]\n",
            " [9.83142793e-01]\n",
            " [6.23578966e-01]\n",
            " [5.83837798e-04]\n",
            " [9.89573538e-01]\n",
            " [9.69029844e-01]\n",
            " [6.15747236e-02]\n",
            " [9.83705997e-01]\n",
            " [2.99623120e-03]\n",
            " [9.47881460e-01]\n",
            " [9.80189800e-01]\n",
            " [9.82425690e-01]\n",
            " [9.85653758e-01]\n",
            " [3.51778567e-01]\n",
            " [9.11833823e-01]\n",
            " [8.25969458e-01]\n",
            " [3.49188433e-03]\n",
            " [5.99945486e-01]\n",
            " [4.01387098e-07]\n",
            " [8.92125309e-01]\n",
            " [7.96477273e-02]\n",
            " [7.93667316e-01]\n",
            " [9.85940099e-01]\n",
            " [9.20912623e-01]\n",
            " [9.78605807e-01]\n",
            " [9.93734479e-01]\n",
            " [9.96119857e-01]\n",
            " [2.96209101e-02]\n",
            " [9.98662353e-01]\n",
            " [2.65216129e-03]\n",
            " [9.76042986e-01]\n",
            " [9.95889485e-01]\n",
            " [9.31033731e-01]\n",
            " [9.56255794e-01]\n",
            " [2.31943923e-04]\n",
            " [9.88707840e-01]\n",
            " [9.88119304e-01]\n",
            " [9.99572337e-01]\n",
            " [7.66656637e-01]\n",
            " [1.09425634e-01]\n",
            " [1.67030339e-06]\n",
            " [9.97202694e-01]\n",
            " [9.99651492e-01]\n",
            " [4.15336266e-02]\n",
            " [5.71266329e-03]\n",
            " [9.76569057e-01]\n",
            " [6.26307866e-03]\n",
            " [5.41176319e-01]\n",
            " [2.69209981e-01]\n",
            " [9.93791342e-01]\n",
            " [7.58910060e-01]\n",
            " [6.51081920e-01]\n",
            " [9.93911803e-01]\n",
            " [3.80555280e-02]\n",
            " [9.87121880e-01]\n",
            " [5.12136638e-01]\n",
            " [9.98194695e-01]\n",
            " [4.63088974e-03]\n",
            " [9.99273002e-01]\n",
            " [2.51417551e-02]\n",
            " [3.67993861e-02]\n",
            " [7.96159923e-01]\n",
            " [5.74856065e-04]\n",
            " [4.63697910e-02]\n",
            " [2.11842736e-04]]\n"
          ]
        }
      ]
    },
    {
      "cell_type": "code",
      "source": [
        "#Round to get the actual predictions\n",
        "#note: has to be flattened since the targets are size(N,) while the predictions are size (N,1)\n",
        "import numpy as np\n",
        "p=np.round(P).flatten()\n",
        "print(p)"
      ],
      "metadata": {
        "colab": {
          "base_uri": "https://localhost:8080/"
        },
        "id": "H7qIQVkSC9q-",
        "outputId": "8075564e-6549-4eda-ef4e-239fccdaa48e"
      },
      "execution_count": 25,
      "outputs": [
        {
          "output_type": "stream",
          "name": "stdout",
          "text": [
            "[1. 0. 0. 1. 0. 1. 1. 1. 0. 1. 1. 1. 1. 1. 1. 1. 1. 1. 0. 0. 0. 1. 1. 1.\n",
            " 1. 1. 1. 1. 0. 1. 1. 1. 0. 1. 0. 0. 0. 1. 1. 1. 1. 0. 0. 1. 1. 1. 1. 0.\n",
            " 1. 1. 1. 0. 1. 1. 1. 1. 1. 0. 0. 0. 1. 1. 0. 0. 1. 1. 0. 0. 1. 1. 1. 1.\n",
            " 1. 1. 0. 1. 1. 0. 1. 1. 0. 1. 1. 0. 0. 0. 0. 0. 0. 1. 0. 1. 0. 1. 0. 1.\n",
            " 0. 1. 1. 0. 0. 1. 1. 0. 1. 1. 1. 1. 1. 1. 0. 1. 0. 0. 1. 1. 0. 1. 1. 0.\n",
            " 1. 0. 1. 1. 1. 1. 0. 1. 1. 0. 1. 0. 1. 1. 1. 1. 0. 1. 1. 0. 1. 0. 1. 0.\n",
            " 1. 1. 1. 1. 1. 1. 0. 1. 0. 1. 1. 1. 1. 0. 1. 1. 1. 1. 0. 0. 1. 1. 0. 0.\n",
            " 1. 0. 1. 0. 1. 1. 1. 1. 0. 1. 1. 1. 0. 1. 0. 0. 1. 0. 0. 0.]\n"
          ]
        }
      ]
    },
    {
      "cell_type": "code",
      "source": [
        "#Calculate the accuracy ,compare it to evaluate() output \n",
        "print(\"Manually calculates accuracy:\", np.mean(p==y_test))\n",
        "print(\"Evaluate output:\",model.evaluate(X_test,y_test))"
      ],
      "metadata": {
        "colab": {
          "base_uri": "https://localhost:8080/"
        },
        "id": "8hzVdTf5Droz",
        "outputId": "da9ac6bd-1bd6-45a2-e196-9945e79b32dc"
      },
      "execution_count": 27,
      "outputs": [
        {
          "output_type": "stream",
          "name": "stdout",
          "text": [
            "Manually calculates accuracy: 0.9946808510638298\n",
            "6/6 [==============================] - 0s 3ms/step - loss: 0.0804 - accuracy: 0.9947\n",
            "Evaluate output: [0.08036869019269943, 0.9946808218955994]\n"
          ]
        }
      ]
    },
    {
      "cell_type": "code",
      "source": [],
      "metadata": {
        "id": "5ylcBxGYFIlq"
      },
      "execution_count": null,
      "outputs": []
    }
  ]
}