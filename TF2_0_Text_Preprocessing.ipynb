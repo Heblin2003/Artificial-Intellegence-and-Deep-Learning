{
  "nbformat": 4,
  "nbformat_minor": 0,
  "metadata": {
    "colab": {
      "provenance": []
    },
    "kernelspec": {
      "name": "python3",
      "display_name": "Python 3"
    },
    "language_info": {
      "name": "python"
    }
  },
  "cells": [
    {
      "cell_type": "code",
      "execution_count": null,
      "metadata": {
        "id": "tl1xPYdyEBsV"
      },
      "outputs": [],
      "source": [
        "# import libraries\n",
        "import tensorflow as tf\n",
        "from tensorflow.keras.preprocessing.text import Tokenizer\n",
        "from tensorflow.keras.preprocessing.sequence import pad_sequences"
      ]
    },
    {
      "cell_type": "code",
      "source": [
        "sentences = {\n",
        "    \"I like pizzas and burgers\",\n",
        "    \"I love chocolate and dogs\",\n",
        "    \"I hate beans\"\n",
        "}"
      ],
      "metadata": {
        "id": "xbWZmjUBKfVM"
      },
      "execution_count": null,
      "outputs": []
    },
    {
      "cell_type": "code",
      "source": [
        "MAX_VOCAB_SIZE = 20000\n",
        "tokenizer = Tokenizer(num_words = MAX_VOCAB_SIZE)\n",
        "tokenizer.fit_on_texts(sentences)\n",
        "sequences = tokenizer.texts_to_sequences(sentences)"
      ],
      "metadata": {
        "id": "i0UEP_lSKz0c"
      },
      "execution_count": null,
      "outputs": []
    },
    {
      "cell_type": "code",
      "source": [
        "print(sequences)"
      ],
      "metadata": {
        "colab": {
          "base_uri": "https://localhost:8080/"
        },
        "id": "3poBdePhLKCq",
        "outputId": "80b036c2-4c25-42b6-c3ad-d7251d1a5585"
      },
      "execution_count": null,
      "outputs": [
        {
          "output_type": "stream",
          "name": "stdout",
          "text": [
            "[[1, 3, 4], [1, 5, 6, 2, 7], [1, 8, 9, 2, 10]]\n"
          ]
        }
      ]
    },
    {
      "cell_type": "code",
      "source": [
        "tokenizer.word_index"
      ],
      "metadata": {
        "colab": {
          "base_uri": "https://localhost:8080/"
        },
        "id": "emeK2LeSLORc",
        "outputId": "393242a3-4133-4c10-8bda-e88646a17209"
      },
      "execution_count": null,
      "outputs": [
        {
          "output_type": "execute_result",
          "data": {
            "text/plain": [
              "{'i': 1,\n",
              " 'and': 2,\n",
              " 'hate': 3,\n",
              " 'beans': 4,\n",
              " 'like': 5,\n",
              " 'pizzas': 6,\n",
              " 'burgers': 7,\n",
              " 'love': 8,\n",
              " 'chocolate': 9,\n",
              " 'dogs': 10}"
            ]
          },
          "metadata": {},
          "execution_count": 6
        }
      ]
    },
    {
      "cell_type": "code",
      "source": [
        "data = pad_sequences(sequences)\n",
        "print(data)"
      ],
      "metadata": {
        "colab": {
          "base_uri": "https://localhost:8080/"
        },
        "id": "2nBLliRULdgG",
        "outputId": "aa259ceb-0131-4e88-b1a2-dbf75f81e290"
      },
      "execution_count": null,
      "outputs": [
        {
          "output_type": "stream",
          "name": "stdout",
          "text": [
            "[[ 0  0  1  3  4]\n",
            " [ 1  5  6  2  7]\n",
            " [ 1  8  9  2 10]]\n"
          ]
        }
      ]
    },
    {
      "cell_type": "code",
      "source": [
        "MAX_SEQUENCE_LENGTH = 5\n",
        "data = pad_sequences(sequences, maxlen = MAX_SEQUENCE_LENGTH, padding = 'post')\n",
        "print(data)"
      ],
      "metadata": {
        "colab": {
          "base_uri": "https://localhost:8080/"
        },
        "id": "4WQHC3WhLo3W",
        "outputId": "57432945-0ff3-453a-8d6d-7c3581cdcf75"
      },
      "execution_count": null,
      "outputs": [
        {
          "output_type": "stream",
          "name": "stdout",
          "text": [
            "[[ 1  3  4  0  0]\n",
            " [ 1  5  6  2  7]\n",
            " [ 1  8  9  2 10]]\n"
          ]
        }
      ]
    },
    {
      "cell_type": "code",
      "source": [
        "# too much padding\n",
        "data = pad_sequences(sequences, maxlen = 6)\n",
        "print(data)"
      ],
      "metadata": {
        "colab": {
          "base_uri": "https://localhost:8080/"
        },
        "id": "dB_q0KkZL-w7",
        "outputId": "fceaca70-240d-4afe-81a6-e2a1a3f10106"
      },
      "execution_count": null,
      "outputs": [
        {
          "output_type": "stream",
          "name": "stdout",
          "text": [
            "[[ 0  0  0  1  3  4]\n",
            " [ 0  1  5  6  2  7]\n",
            " [ 0  1  8  9  2 10]]\n"
          ]
        }
      ]
    },
    {
      "cell_type": "code",
      "source": [
        "# truncation\n",
        "data = pad_sequences(sequences, maxlen = 4)\n",
        "print(data)"
      ],
      "metadata": {
        "colab": {
          "base_uri": "https://localhost:8080/"
        },
        "id": "-mKRf4FsMNyu",
        "outputId": "9c4d034f-ed7a-494d-d2e1-0c5caf022b67"
      },
      "execution_count": null,
      "outputs": [
        {
          "output_type": "stream",
          "name": "stdout",
          "text": [
            "[[ 0  1  3  4]\n",
            " [ 5  6  2  7]\n",
            " [ 8  9  2 10]]\n"
          ]
        }
      ]
    },
    {
      "cell_type": "code",
      "source": [
        "data = pad_sequences(sequences, maxlen = 4, truncating = 'post')\n",
        "print(data)"
      ],
      "metadata": {
        "colab": {
          "base_uri": "https://localhost:8080/"
        },
        "id": "-IjfQJ2pMa3K",
        "outputId": "b251f07d-c89a-4ab1-e538-8a87669f4980"
      },
      "execution_count": null,
      "outputs": [
        {
          "output_type": "stream",
          "name": "stdout",
          "text": [
            "[[0 1 3 4]\n",
            " [1 5 6 2]\n",
            " [1 8 9 2]]\n"
          ]
        }
      ]
    },
    {
      "cell_type": "code",
      "source": [],
      "metadata": {
        "id": "0q1X1mDxMgsL"
      },
      "execution_count": null,
      "outputs": []
    }
  ]
}